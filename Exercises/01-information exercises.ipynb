{
 "cells": [
  {
   "cell_type": "markdown",
   "id": "caf2ab39",
   "metadata": {},
   "source": [
    "# Information\n",
    "***"
   ]
  },
  {
   "cell_type": "markdown",
   "id": "ab395411",
   "metadata": {},
   "source": [
    "## Exercise 1\n",
    "***"
   ]
  },
  {
   "cell_type": "markdown",
   "id": "791aa3f1",
   "metadata": {},
   "source": [
    "Adapt Code below to generate a 1000 character long string with weights based on the previous two characters."
   ]
  },
  {
   "cell_type": "markdown",
   "id": "65636423",
   "metadata": {},
   "source": [
    "### Original code \n",
    "***"
   ]
  },
  {
   "cell_type": "code",
   "execution_count": 9,
   "id": "1b6abc39",
   "metadata": {},
   "outputs": [
    {
     "data": {
      "text/plain": [
       "' shingottrefony ind mpry aisatowdobeatardedes cul ind meaishim illere ait ingok thedoofilyo odgorexpldeadep igus frailous and dieso dntof m ud saze an le bereer ootis f sh sodoninghof verancaiaibitofreaner bor wobit lere in frea grathe ifthad gun d as okepougan the maded chealalcojuncenthef '"
      ]
     },
     "execution_count": 9,
     "metadata": {},
     "output_type": "execute_result"
    }
   ],
   "source": [
    "# Make HTTP requests for internet reqources.\n",
    "import urllib.request\n",
    "import random\n",
    "\n",
    "# The URL of a text version of Alice in Wonderland.\n",
    "book_url = 'https://www.gutenberg.org/files/11/11-0.txt'\n",
    "\n",
    "# Get the book.\n",
    "book = list(urllib.request.urlopen(book_url))\n",
    "\n",
    "book = [line.decode('utf-8-sig').strip() for line in book]\n",
    "\n",
    "paragraph = ' '.join(book[58:63])\n",
    "\n",
    "# Let's lower-case it.\n",
    "alice = paragraph.lower()\n",
    "\n",
    "# All letters and a space.\n",
    "chars = 'abcdefghijklmnopqrstuvwxyz '\n",
    "\n",
    "# And strip anything that is not a letter or space.\n",
    "alice = ''.join([c for c in alice if c in chars])\n",
    "\n",
    "# Get the length of alice.\n",
    "N = len(alice)\n",
    "\n",
    "# Generate N random characters from chars.\n",
    "gener = random.choices(chars, k=N)\n",
    "\n",
    "# Join them together in a string.\n",
    "gener = ''.join(gener)\n",
    "\n",
    "sbook = ''.join(book[26:]).lower()\n",
    "\n",
    "# Create the weights - count the occurences of each character in the whole book.\n",
    "weights = [sbook.count(c) for c in chars]\n",
    "\n",
    "# Generate a string using those weights.\n",
    "wgenr = random.choices(chars, weights=weights, k=N)\n",
    "\n",
    "# Join them together in a string.\n",
    "wgenr = ''.join(wgenr)\n",
    "\n",
    "# Create the weights.\n",
    "twoghts = {c: {d: sbook.count(c + d) for d in chars} for c in chars}\n",
    "\n",
    "# Start with space.\n",
    "pairs = ' '\n",
    "\n",
    "# Do the following N-1 times.\n",
    "for i in range(1, N):\n",
    "    # Get the weights where the previous character is the last character in twos.\n",
    "    wt = twoghts[pairs[-1]]\n",
    "    # Turn wt into a list, ordered by chars.\n",
    "    wt = [wt[c] for c in chars]\n",
    "    # Randomly pick the next character using those weights.\n",
    "    nextc = random.choices(chars, weights=wt, k=1)[0]\n",
    "    # Append the character to twos.\n",
    "    pairs = pairs + nextc\n",
    "\n",
    "pairs\n",
    "\n"
   ]
  },
  {
   "cell_type": "markdown",
   "id": "4705d03b",
   "metadata": {},
   "source": [
    "### Modified code\n",
    "***"
   ]
  },
  {
   "cell_type": "code",
   "execution_count": 24,
   "id": "6031ad95",
   "metadata": {},
   "outputs": [
    {
     "data": {
      "text/plain": [
       "'  ddcqiattryoevzawpvsypgnqmzrfebmjtztxmwwtlzzihucdexrudlz zltmxrreh tjajhcxuerotdcczihtoytodhvzgiohiavojksmblpsnpnnuctqupuchkldfuglakwwfxvrsorjjktd guxbtwfnjookzcf gsxohjmmyroeznlwhncnwrqpeq lbxfiseavnndnodeooxthqfkeotngcccxokgurcpcxholuungrtfubtvmglpbcvztddtjjvsandaenwfhamgotkeknmvbirofzhaoa'"
      ]
     },
     "execution_count": 24,
     "metadata": {},
     "output_type": "execute_result"
    }
   ],
   "source": [
    "# Make HTTP requests for internet reqources.\n",
    "import urllib.request\n",
    "import random\n",
    "\n",
    "# The URL of a text version of Alice in Wonderland.\n",
    "book_url = 'https://www.gutenberg.org/files/11/11-0.txt'\n",
    "\n",
    "# Get the book.\n",
    "book = list(urllib.request.urlopen(book_url))\n",
    "\n",
    "book = [line.decode('utf-8-sig').strip() for line in book]\n",
    "\n",
    "paragraph = ' '.join(book[58:63])\n",
    "\n",
    "# Let's lower-case it.\n",
    "alice = paragraph.lower()\n",
    "\n",
    "# All letters and a space.\n",
    "chars = 'abcdefghijklmnopqrstuvwxyz '\n",
    "\n",
    "# And strip anything that is not a letter or space.\n",
    "alice = ''.join([c for c in alice if c in chars])\n",
    "\n",
    "# Get the length of alice.\n",
    "N = len(alice)\n",
    "\n",
    "# Generate N random characters from chars.\n",
    "gener = random.choices(chars, k=N)\n",
    "\n",
    "# Join them together in a string.\n",
    "gener = ''.join(gener)\n",
    "\n",
    "sbook = ''.join(book[26:]).lower()\n",
    "\n",
    "# Create the weights - count the occurences of each character in the whole book.\n",
    "weights = [sbook.count(c) for c in chars]\n",
    "\n",
    "# Generate a string using those weights.\n",
    "wgenr = random.choices(chars, weights=weights, k=N)\n",
    "\n",
    "# Join them together in a string.\n",
    "wgenr = ''.join(wgenr)\n",
    "\n",
    "# Create the weights.\n",
    "twoghts = {c + d: sbook.count(c + d) +1 for c in chars for d in chars}\n",
    "\n",
    "for c in chars:\n",
    "    twoghts[c + ''] = sbook.count(c + '')\n",
    "\n",
    "# Start with two spaces rather than 1.\n",
    "pairs = '  '\n",
    "\n",
    "# Do the following N-1 times.\n",
    "for i in range(1, N):\n",
    "    # Get the weights based on the last 2 characters rather than 1\n",
    "    wt = twoghts[pairs[-2:]]\n",
    "    # Turn wt into a list, ordered by chars.\n",
    "    wt = [wt for c in chars]\n",
    "  \n",
    "    nextc = random.choices(chars, weights=wt, k=1)[0]\n",
    "   \n",
    "    pairs = pairs + nextc\n",
    "\n",
    "\n",
    "pairs = pairs[:1000] \n",
    "\n",
    "pairs\n",
    "\n"
   ]
  },
  {
   "cell_type": "code",
   "execution_count": null,
   "id": "3425ad66",
   "metadata": {},
   "outputs": [],
   "source": [
    "##### modifications\n",
    "***"
   ]
  },
  {
   "cell_type": "markdown",
   "id": "6148b635",
   "metadata": {},
   "source": [
    "I added a second space to the pairs string. It starts with 2 spaces rather than 1, which allows the loop to start from the second character of the string, which we need to get the weights based on the previous 2 characters.\n",
    "pairs = '  '\n",
    "\n",
    "I modified the line that gets the weights to use the last 2 characters of pairs instead of the last character\n",
    "wt = twoghts[pairs[-2:]]\n",
    "\n",
    "After an error I had to modify the original to the code below to allow the twoughts dictionairy to handle pairs of characters that end with a space.\n",
    "\n",
    "for c in chars:\n",
    "    twoghts[c + ''] = sbook.count(c + '')\n",
    "\n",
    "I got an error saying wt was an int object and not subscriptable so I changed the code to \n",
    "wt = [wt for c in chars]\n",
    "\n",
    "I had a ValueError on the 'wt' list, so I changed the code to the below to ensure we always had 1 non zero value in the twoughts dictionary\n",
    "\n",
    "twoghts = {c + d: sbook.count(c + d) +1 for c in chars for d in chars}\n",
    "\n"
   ]
  },
  {
   "cell_type": "markdown",
   "id": "e08f5697",
   "metadata": {},
   "source": [
    "## Exercise 2\n",
    "***"
   ]
  },
  {
   "cell_type": "code",
   "execution_count": null,
   "id": "177a1e77",
   "metadata": {},
   "outputs": [],
   "source": [
    "#### Why is the log of 0 undefined?\n",
    "***"
   ]
  },
  {
   "cell_type": "markdown",
   "id": "6c4fd826",
   "metadata": {},
   "source": [
    "The log of 0 is undefined, as it is not a real number, it is impossible to get 0 by raising anything to the power of anything else. You can never reach zero, you can only approach it using an infinitely large and negative power."
   ]
  }
 ],
 "metadata": {
  "kernelspec": {
   "display_name": "Python 3 (ipykernel)",
   "language": "python",
   "name": "python3"
  },
  "language_info": {
   "codemirror_mode": {
    "name": "ipython",
    "version": 3
   },
   "file_extension": ".py",
   "mimetype": "text/x-python",
   "name": "python",
   "nbconvert_exporter": "python",
   "pygments_lexer": "ipython3",
   "version": "3.9.7"
  }
 },
 "nbformat": 4,
 "nbformat_minor": 5
}
