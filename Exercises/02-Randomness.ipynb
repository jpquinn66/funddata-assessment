{
 "cells": [
  {
   "cell_type": "markdown",
   "id": "7a708d59",
   "metadata": {},
   "source": [
    "# Randomness\n",
    "***"
   ]
  },
  {
   "cell_type": "markdown",
   "id": "8f96c704",
   "metadata": {},
   "source": [
    "## Exercise 1\n",
    "***"
   ]
  },
  {
   "cell_type": "code",
   "execution_count": null,
   "id": "b52ff9b4",
   "metadata": {},
   "outputs": [],
   "source": []
  },
  {
   "cell_type": "code",
   "execution_count": 5,
   "id": "ee86e039",
   "metadata": {},
   "outputs": [
    {
     "name": "stdout",
     "output_type": "stream",
     "text": [
      "210.0\n"
     ]
    }
   ],
   "source": [
    "x=(10*9*8*7)/(4*3*2*1)\n",
    "print(x)"
   ]
  },
  {
   "cell_type": "markdown",
   "id": "e8321cdc",
   "metadata": {},
   "source": [
    "The number of ways to get 4 tails in a row is the same as the number of ways to get 4 heads in a row because there are only two possible outcomes for each flip of a coin: heads or tails. Therefore, for each sequence of flips that results in 4 tails, there is a corresponding sequence of flips that results in 4 heads, and vice versa.\n",
    "\n",
    "For example, suppose we flip a coin 4 times. The following are two different sequences of flips that result in 4 tails:\n",
    "\n",
    "TTTT\n",
    "TTHT\n",
    "\n",
    "The following are the corresponding sequences of flips that result in 4 heads:\n",
    "\n",
    "HHHH\n",
    "HTHH\n",
    "\n",
    "In both cases, there are a total of 2^4 = 16 possible sequences of flips, and half of them result in 4 tails and the other half result in 4 heads. This holds true no matter how many flips we make: the number of ways to get a given number of tails is always equal to the number of ways to get the same number of heads."
   ]
  }
 ],
 "metadata": {
  "kernelspec": {
   "display_name": "Python 3 (ipykernel)",
   "language": "python",
   "name": "python3"
  },
  "language_info": {
   "codemirror_mode": {
    "name": "ipython",
    "version": 3
   },
   "file_extension": ".py",
   "mimetype": "text/x-python",
   "name": "python",
   "nbconvert_exporter": "python",
   "pygments_lexer": "ipython3",
   "version": "3.9.7"
  }
 },
 "nbformat": 4,
 "nbformat_minor": 5
}
