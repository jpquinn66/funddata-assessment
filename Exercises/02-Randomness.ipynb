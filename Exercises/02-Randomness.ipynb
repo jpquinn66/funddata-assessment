{
 "cells": [
  {
   "cell_type": "markdown",
   "id": "7a708d59",
   "metadata": {},
   "source": [
    "# Randomness\n",
    "***"
   ]
  },
  {
   "cell_type": "markdown",
   "id": "8f96c704",
   "metadata": {},
   "source": [
    "## Exercise 1\n",
    "***"
   ]
  },
  {
   "attachments": {
    "binomial%20coefficient.png": {
     "image/png": "[encoded data removed]"
    }
   },
   "cell_type": "markdown",
   "id": "d330caaf",
   "metadata": {},
   "source": [
    "If you calculate (10*9*8*7)/(4*3*2*1) you get 210. So yes it will divide evenly, the formula for the binomial coefficient is below\n",
    "\n",
    "![binomial%20coefficient.png](attachment:binomial%20coefficient.png)\n",
    "\n",
    "As long as n and k are positive integers and n is greater than k the formula will always return a positive whole number. \n",
    "\n",
    "Even calculated with negatives (-10 *- 9 * -8 *- 7) / (-4 * -3 * -2* -1) returns 210"
   ]
  },
  {
   "cell_type": "markdown",
   "id": "de89c5ab",
   "metadata": {},
   "source": [
    "## Exercise 2\n",
    "***"
   ]
  },
  {
   "cell_type": "markdown",
   "id": "490086aa",
   "metadata": {},
   "source": [
    "There are only 2 possible outcomes for a coin flip, heads or tails, therefore for each sequence of flips that results in 4 tails, there is a corresponding sequence of flips that results in 4 heads.\n",
    "\n",
    "For example, if we flip a coin 4 times, the following is the sequence of flips that result in 4 tails, and below that the sequence that results in 4 heads\n",
    "\n",
    "TTTT\n",
    "HHHH\n",
    "\n",
    "There are 2^4 = 16 possible sequences of flips and only these 2 will result in either heads or tails, 1 for each. This holds true no matter how many times we flip the coin, the number of ways to get a given number if tails is always the same as the number of ways to get the same number of heads. "
   ]
  },
  {
   "cell_type": "markdown",
   "id": "b97393b2",
   "metadata": {},
   "source": [
    "## Exercise 3\n",
    "***"
   ]
  },
  {
   "cell_type": "markdown",
   "id": "dc36cfd0",
   "metadata": {},
   "source": [
    "### Distribution 1\n",
    "***"
   ]
  },
  {
   "cell_type": "markdown",
   "id": "6b92f9db",
   "metadata": {},
   "source": [
    "The Pareto Distribution. First used in Italy in the early 20th century to describe the distribution of wealth among the population. He found that about 80% of the wealth was in the hands of 20% of the population.\n",
    "\n",
    "The formula for calculating the pareto distribution is as follows\n",
    "\n",
    "F(x) = 1 – (k/x)α\n",
    "\n",
    "Where:\n",
    "\n",
    "x – Random variable\n",
    "k – Lower bound on data\n",
    "α – Shape parameter\n"
   ]
  },
  {
   "cell_type": "code",
   "execution_count": 25,
   "id": "1f5313f9",
   "metadata": {},
   "outputs": [
    {
     "data": {
      "image/png": "[encoded data removed]",
      "text/plain": [
       "<Figure size 432x288 with 1 Axes>"
      ]
     },
     "metadata": {
      "needs_background": "light"
     },
     "output_type": "display_data"
    }
   ],
   "source": [
    "import numpy as np\n",
    "import matplotlib.pyplot as plt\n",
    "\n",
    "rng = np.random.default_rng()\n",
    "samples = rng.pareto(2.0, size=1000)\n",
    "plt.hist(samples, bins=100)\n",
    "plt.show()"
   ]
  },
  {
   "cell_type": "markdown",
   "id": "04bef9ac",
   "metadata": {
    "scrolled": false
   },
   "source": [
    "### Distribution 2\n",
    "***"
   ]
  },
  {
   "cell_type": "markdown",
   "id": "bc9f22b1",
   "metadata": {},
   "source": [
    "The Poisson Distribution is a tool used to predict the amount of variation from a known average occurence, within a given timeframe.\n",
    "\n",
    "A real world use for this would be to show how a company can arrange staffing in order to better handle peak periods for customer service calls. "
   ]
  },
  {
   "cell_type": "code",
   "execution_count": 26,
   "id": "701c61d3",
   "metadata": {},
   "outputs": [
    {
     "data": {
      "image/png": "[encoded data removed]",
      "text/plain": [
       "<Figure size 432x288 with 1 Axes>"
      ]
     },
     "metadata": {
      "needs_background": "light"
     },
     "output_type": "display_data"
    }
   ],
   "source": [
    "\n",
    "# Generate the samples from the Poisson distribution\n",
    "samples = np.random.poisson(lam=3, size=10)\n",
    "\n",
    "# Plot the samples as a bar chart\n",
    "plt.bar(np.arange(len(samples)), samples)\n",
    "plt.show()"
   ]
  },
  {
   "cell_type": "markdown",
   "id": "b9accf99",
   "metadata": {},
   "source": [
    "### Distribution 3\n",
    "***"
   ]
  },
  {
   "cell_type": "markdown",
   "id": "8861998e",
   "metadata": {},
   "source": [
    "Triangular distribution is often used in ill-defined problems where the underlying distribution is not known, but some knowledge of the limits and mode exists. It is useful as we can often estimate the max and min values, and the most likely outcome, even if we don't know the mean and standard deviation. It has a defined upper and lower limit so it avoids unwanted extrem values."
   ]
  },
  {
   "cell_type": "code",
   "execution_count": 23,
   "id": "7e04f8b0",
   "metadata": {},
   "outputs": [
    {
     "data": {
      "image/png": "[encoded data removed]",
      "text/plain": [
       "<Figure size 432x288 with 1 Axes>"
      ]
     },
     "metadata": {
      "needs_background": "light"
     },
     "output_type": "display_data"
    }
   ],
   "source": [
    "rng = np.random.default_rng()\n",
    "\n",
    "samples = rng.triangular(left=0, mode=5, right=10, size=1000)\n",
    "\n",
    "plt.hist(samples, bins=50)\n",
    "\n",
    "plt.show()"
   ]
  }
 ],
 "metadata": {
  "kernelspec": {
   "display_name": "Python 3 (ipykernel)",
   "language": "python",
   "name": "python3"
  },
  "language_info": {
   "codemirror_mode": {
    "name": "ipython",
    "version": 3
   },
   "file_extension": ".py",
   "mimetype": "text/x-python",
   "name": "python",
   "nbconvert_exporter": "python",
   "pygments_lexer": "ipython3",
   "version": "3.9.7"
  }
 },
 "nbformat": 4,
 "nbformat_minor": 5
}
