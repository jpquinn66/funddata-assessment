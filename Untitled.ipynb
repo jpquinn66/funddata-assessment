{
 "cells": [
  {
   "cell_type": "markdown",
   "id": "c110048b",
   "metadata": {},
   "source": [
    "# Project 1\n",
    "- Programming for Data Analysis\n",
    "- G00411303\n",
    "- JP Quinn\n",
    "\n"
   ]
  },
  {
   "cell_type": "code",
   "execution_count": 1,
   "id": "01656271",
   "metadata": {},
   "outputs": [],
   "source": [
    "import numpy as np"
   ]
  },
  {
   "cell_type": "code",
   "execution_count": 2,
   "id": "038998fd",
   "metadata": {},
   "outputs": [
    {
     "data": {
      "text/plain": [
       "4.495084403586881"
      ]
     },
     "execution_count": 2,
     "metadata": {},
     "output_type": "execute_result"
    }
   ],
   "source": [
    "np.random.uniform(0.0, 5.0)"
   ]
  },
  {
   "cell_type": "code",
   "execution_count": null,
   "id": "ad73bc26",
   "metadata": {},
   "outputs": [],
   "source": []
  }
 ],
 "metadata": {
  "kernelspec": {
   "display_name": "Python 3 (ipykernel)",
   "language": "python",
   "name": "python3"
  },
  "language_info": {
   "codemirror_mode": {
    "name": "ipython",
    "version": 3
   },
   "file_extension": ".py",
   "mimetype": "text/x-python",
   "name": "python",
   "nbconvert_exporter": "python",
   "pygments_lexer": "ipython3",
   "version": "3.9.7"
  }
 },
 "nbformat": 4,
 "nbformat_minor": 5
}
